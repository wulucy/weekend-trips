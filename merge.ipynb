{
 "cells": [
  {
   "cell_type": "code",
   "execution_count": 64,
   "metadata": {},
   "outputs": [],
   "source": [
    "from datetime import datetime\n",
    "import os\n",
    "import pandas as pd"
   ]
  },
  {
   "cell_type": "markdown",
   "metadata": {},
   "source": [
    "# Clean flights data"
   ]
  },
  {
   "cell_type": "code",
   "execution_count": 47,
   "metadata": {},
   "outputs": [
    {
     "name": "stderr",
     "output_type": "stream",
     "text": [
      "/Users/lucy/miniconda3/envs/research/lib/python3.7/site-packages/ipykernel_launcher.py:7: FutureWarning: Sorting because non-concatenation axis is not aligned. A future version\n",
      "of pandas will change to not sort by default.\n",
      "\n",
      "To accept the future behavior, pass 'sort=False'.\n",
      "\n",
      "To retain the current behavior and silence the warning, pass 'sort=True'.\n",
      "\n",
      "  import sys\n"
     ]
    }
   ],
   "source": [
    "# Merge all flight data\n",
    "destinations = ['boston', 'nyc', 'dc']\n",
    "\n",
    "for dest in destinations:\n",
    "    flight_csvs = [x for x in os.listdir(os.path.join('data', dest)) if 'flights' in x]\n",
    "    flight_data = [pd.read_csv(os.path.join('data', dest, x)) for x in flight_csvs]\n",
    "    all_flights = pd.concat(flight_data)\n",
    "    all_flights.to_csv(os.path.join('data', dest, 'flights.csv'))"
   ]
  },
  {
   "cell_type": "code",
   "execution_count": 48,
   "metadata": {},
   "outputs": [],
   "source": [
    "flight_data_all = [pd.read_csv(os.path.join('data', x, 'flights.csv')) for x in destinations]\n",
    "flights = pd.concat(flight_data_all)"
   ]
  },
  {
   "cell_type": "code",
   "execution_count": 49,
   "metadata": {},
   "outputs": [
    {
     "data": {
      "text/html": [
       "<div>\n",
       "<style scoped>\n",
       "    .dataframe tbody tr th:only-of-type {\n",
       "        vertical-align: middle;\n",
       "    }\n",
       "\n",
       "    .dataframe tbody tr th {\n",
       "        vertical-align: top;\n",
       "    }\n",
       "\n",
       "    .dataframe thead th {\n",
       "        text-align: right;\n",
       "    }\n",
       "</style>\n",
       "<table border=\"1\" class=\"dataframe\">\n",
       "  <thead>\n",
       "    <tr style=\"text-align: right;\">\n",
       "      <th></th>\n",
       "      <th>Unnamed: 0</th>\n",
       "      <th>Unnamed: 0.1</th>\n",
       "      <th>Unnamed: 0.1.1</th>\n",
       "      <th>date</th>\n",
       "      <th>destination</th>\n",
       "      <th>duration</th>\n",
       "      <th>origination</th>\n",
       "      <th>price</th>\n",
       "      <th>time</th>\n",
       "    </tr>\n",
       "  </thead>\n",
       "  <tbody>\n",
       "    <tr>\n",
       "      <td>0</td>\n",
       "      <td>0</td>\n",
       "      <td>0</td>\n",
       "      <td>NaN</td>\n",
       "      <td>11-03-2019</td>\n",
       "      <td>Philadelphia</td>\n",
       "      <td>1h 36m</td>\n",
       "      <td>Boston</td>\n",
       "      <td>$94</td>\n",
       "      <td>5:00 AM   –   6:36 AM</td>\n",
       "    </tr>\n",
       "    <tr>\n",
       "      <td>1</td>\n",
       "      <td>1</td>\n",
       "      <td>0</td>\n",
       "      <td>NaN</td>\n",
       "      <td>11-03-2019</td>\n",
       "      <td>Philadelphia</td>\n",
       "      <td>1h 36m</td>\n",
       "      <td>Boston</td>\n",
       "      <td>$94</td>\n",
       "      <td>6:00 AM   –   7:36 AM</td>\n",
       "    </tr>\n",
       "    <tr>\n",
       "      <td>2</td>\n",
       "      <td>2</td>\n",
       "      <td>0</td>\n",
       "      <td>NaN</td>\n",
       "      <td>11-03-2019</td>\n",
       "      <td>Philadelphia</td>\n",
       "      <td>1h 39m</td>\n",
       "      <td>Boston</td>\n",
       "      <td>$94</td>\n",
       "      <td>7:38 AM   –   9:17 AM</td>\n",
       "    </tr>\n",
       "    <tr>\n",
       "      <td>3</td>\n",
       "      <td>3</td>\n",
       "      <td>0</td>\n",
       "      <td>NaN</td>\n",
       "      <td>11-03-2019</td>\n",
       "      <td>Philadelphia</td>\n",
       "      <td>1h 41m</td>\n",
       "      <td>Boston</td>\n",
       "      <td>$94</td>\n",
       "      <td>8:03 AM   –   9:44 AM</td>\n",
       "    </tr>\n",
       "    <tr>\n",
       "      <td>4</td>\n",
       "      <td>4</td>\n",
       "      <td>0</td>\n",
       "      <td>NaN</td>\n",
       "      <td>11-03-2019</td>\n",
       "      <td>Philadelphia</td>\n",
       "      <td>1h 37m</td>\n",
       "      <td>Boston</td>\n",
       "      <td>$104</td>\n",
       "      <td>9:38 PM   –   11:15 PM</td>\n",
       "    </tr>\n",
       "  </tbody>\n",
       "</table>\n",
       "</div>"
      ],
      "text/plain": [
       "   Unnamed: 0  Unnamed: 0.1  Unnamed: 0.1.1        date   destination  \\\n",
       "0           0             0             NaN  11-03-2019  Philadelphia   \n",
       "1           1             0             NaN  11-03-2019  Philadelphia   \n",
       "2           2             0             NaN  11-03-2019  Philadelphia   \n",
       "3           3             0             NaN  11-03-2019  Philadelphia   \n",
       "4           4             0             NaN  11-03-2019  Philadelphia   \n",
       "\n",
       "  duration origination          price                          time  \n",
       "0   1h 36m      Boston         $94         5:00 AM   –   6:36 AM     \n",
       "1   1h 36m      Boston         $94         6:00 AM   –   7:36 AM     \n",
       "2   1h 39m      Boston         $94         7:38 AM   –   9:17 AM     \n",
       "3   1h 41m      Boston         $94         8:03 AM   –   9:44 AM     \n",
       "4   1h 37m      Boston        $104        9:38 PM   –   11:15 PM     "
      ]
     },
     "execution_count": 49,
     "metadata": {},
     "output_type": "execute_result"
    }
   ],
   "source": [
    "flights.head()"
   ]
  },
  {
   "cell_type": "code",
   "execution_count": 50,
   "metadata": {},
   "outputs": [],
   "source": [
    "flights = flights[['time', 'duration', 'price', 'date', 'origination', 'destination']]"
   ]
  },
  {
   "cell_type": "code",
   "execution_count": 51,
   "metadata": {},
   "outputs": [],
   "source": [
    "flights['depart'] = [x.split('–')[0] for x in flights['time']]\n",
    "flights['arrive'] = [x.split('–')[-1] for x in flights['time']]"
   ]
  },
  {
   "cell_type": "code",
   "execution_count": 52,
   "metadata": {},
   "outputs": [],
   "source": [
    "flights['mode'] = 'plane'\n",
    "flights = flights[['duration', 'price', 'date', 'origination', 'destination', 'depart', 'arrive', 'mode']]"
   ]
  },
  {
   "cell_type": "code",
   "execution_count": 53,
   "metadata": {},
   "outputs": [],
   "source": [
    "flights.to_csv(os.path.join('data', 'all_flights.csv'), index=False)"
   ]
  },
  {
   "cell_type": "markdown",
   "metadata": {},
   "source": [
    "# Clean bus/train data"
   ]
  },
  {
   "cell_type": "code",
   "execution_count": 54,
   "metadata": {},
   "outputs": [
    {
     "name": "stderr",
     "output_type": "stream",
     "text": [
      "/Users/lucy/miniconda3/envs/research/lib/python3.7/site-packages/ipykernel_launcher.py:7: FutureWarning: Sorting because non-concatenation axis is not aligned. A future version\n",
      "of pandas will change to not sort by default.\n",
      "\n",
      "To accept the future behavior, pass 'sort=False'.\n",
      "\n",
      "To retain the current behavior and silence the warning, pass 'sort=True'.\n",
      "\n",
      "  import sys\n"
     ]
    }
   ],
   "source": [
    "# Merge all bus/train data\n",
    "destinations = ['boston', 'nyc', 'dc']\n",
    "\n",
    "for dest in destinations:\n",
    "    bus_train_csvs = [x for x in os.listdir(os.path.join('data', dest)) if 'bus_train' in x]\n",
    "    bus_train_data = [pd.read_csv(os.path.join('data', dest, x)) for x in bus_train_csvs]\n",
    "    all_bus_trains = pd.concat(bus_train_data)\n",
    "    all_bus_trains.to_csv(os.path.join('data', dest, 'bus_train.csv'))"
   ]
  },
  {
   "cell_type": "code",
   "execution_count": 55,
   "metadata": {},
   "outputs": [],
   "source": [
    "bus_train_all = [pd.read_csv(os.path.join('data', x, 'bus_train.csv')) for x in destinations]\n",
    "bus_train = pd.concat(bus_train_all)"
   ]
  },
  {
   "cell_type": "code",
   "execution_count": 56,
   "metadata": {},
   "outputs": [],
   "source": [
    "bus_train['mode'] = ['train' if ('Amtrak') in x else 'bus' for x in bus_train['carrier']]"
   ]
  },
  {
   "cell_type": "code",
   "execution_count": 57,
   "metadata": {},
   "outputs": [],
   "source": [
    "bus_train['arrive'] = [x.split('+1')[0] for x in bus_train['arrive']]"
   ]
  },
  {
   "cell_type": "code",
   "execution_count": 58,
   "metadata": {},
   "outputs": [],
   "source": [
    "bus_train = bus_train[['duration', 'price', 'date', 'origination', 'destination', 'depart', 'arrive', 'mode']]"
   ]
  },
  {
   "cell_type": "code",
   "execution_count": 59,
   "metadata": {},
   "outputs": [],
   "source": [
    "bus_train.to_csv('data/all_bus_train.csv', index=False)"
   ]
  },
  {
   "cell_type": "markdown",
   "metadata": {},
   "source": [
    "# Merge and clean all data"
   ]
  },
  {
   "cell_type": "code",
   "execution_count": 60,
   "metadata": {},
   "outputs": [],
   "source": [
    "travel = pd.concat([flights, bus_train])"
   ]
  },
  {
   "cell_type": "code",
   "execution_count": 78,
   "metadata": {},
   "outputs": [],
   "source": [
    "minute_durations = travel[~travel['duration'].str.contains('h')].copy()\n",
    "minute_durations['duration'] = [int(x.rstrip('m')) for x in minute_durations['duration']]"
   ]
  },
  {
   "cell_type": "code",
   "execution_count": 85,
   "metadata": {},
   "outputs": [],
   "source": [
    "hour_durations = travel[travel['duration'].str.contains('h')].copy()\n",
    "dt_obj = [datetime.strptime(x, '%Hh %Mm') for x in hour_durations['duration']]\n",
    "hour_durations['duration'] = [x.hour*60 + x.minute for x in dt_obj]"
   ]
  },
  {
   "cell_type": "code",
   "execution_count": 86,
   "metadata": {},
   "outputs": [],
   "source": [
    "travel_clean = pd.concat([minute_durations, hour_durations])"
   ]
  },
  {
   "cell_type": "code",
   "execution_count": 87,
   "metadata": {},
   "outputs": [
    {
     "data": {
      "text/html": [
       "<div>\n",
       "<style scoped>\n",
       "    .dataframe tbody tr th:only-of-type {\n",
       "        vertical-align: middle;\n",
       "    }\n",
       "\n",
       "    .dataframe tbody tr th {\n",
       "        vertical-align: top;\n",
       "    }\n",
       "\n",
       "    .dataframe thead th {\n",
       "        text-align: right;\n",
       "    }\n",
       "</style>\n",
       "<table border=\"1\" class=\"dataframe\">\n",
       "  <thead>\n",
       "    <tr style=\"text-align: right;\">\n",
       "      <th></th>\n",
       "      <th>duration</th>\n",
       "      <th>price</th>\n",
       "      <th>date</th>\n",
       "      <th>origination</th>\n",
       "      <th>destination</th>\n",
       "      <th>depart</th>\n",
       "      <th>arrive</th>\n",
       "      <th>mode</th>\n",
       "    </tr>\n",
       "  </thead>\n",
       "  <tbody>\n",
       "    <tr>\n",
       "      <td>3</td>\n",
       "      <td>53</td>\n",
       "      <td>$390</td>\n",
       "      <td>11-03-2019</td>\n",
       "      <td>DC</td>\n",
       "      <td>Philadelphia</td>\n",
       "      <td>7:13 PM</td>\n",
       "      <td>8:06 PM</td>\n",
       "      <td>plane</td>\n",
       "    </tr>\n",
       "    <tr>\n",
       "      <td>15</td>\n",
       "      <td>56</td>\n",
       "      <td>$390</td>\n",
       "      <td>10-17-2019</td>\n",
       "      <td>Philadelphia</td>\n",
       "      <td>DC</td>\n",
       "      <td>7:59 AM</td>\n",
       "      <td>8:55 AM</td>\n",
       "      <td>plane</td>\n",
       "    </tr>\n",
       "    <tr>\n",
       "      <td>16</td>\n",
       "      <td>53</td>\n",
       "      <td>$390</td>\n",
       "      <td>10-17-2019</td>\n",
       "      <td>Philadelphia</td>\n",
       "      <td>DC</td>\n",
       "      <td>12:25 PM</td>\n",
       "      <td>1:18 PM</td>\n",
       "      <td>plane</td>\n",
       "    </tr>\n",
       "    <tr>\n",
       "      <td>17</td>\n",
       "      <td>51</td>\n",
       "      <td>$390</td>\n",
       "      <td>10-17-2019</td>\n",
       "      <td>Philadelphia</td>\n",
       "      <td>DC</td>\n",
       "      <td>4:50 PM</td>\n",
       "      <td>5:41 PM</td>\n",
       "      <td>plane</td>\n",
       "    </tr>\n",
       "    <tr>\n",
       "      <td>18</td>\n",
       "      <td>56</td>\n",
       "      <td>$390</td>\n",
       "      <td>10-17-2019</td>\n",
       "      <td>Philadelphia</td>\n",
       "      <td>DC</td>\n",
       "      <td>5:50 PM</td>\n",
       "      <td>6:46 PM</td>\n",
       "      <td>plane</td>\n",
       "    </tr>\n",
       "  </tbody>\n",
       "</table>\n",
       "</div>"
      ],
      "text/plain": [
       "    duration          price        date   origination   destination  \\\n",
       "3         53        $390     11-03-2019            DC  Philadelphia   \n",
       "15        56        $390     10-17-2019  Philadelphia            DC   \n",
       "16        53        $390     10-17-2019  Philadelphia            DC   \n",
       "17        51        $390     10-17-2019  Philadelphia            DC   \n",
       "18        56        $390     10-17-2019  Philadelphia            DC   \n",
       "\n",
       "            depart         arrive   mode  \n",
       "3       7:13 PM        8:06 PM     plane  \n",
       "15      7:59 AM        8:55 AM     plane  \n",
       "16     12:25 PM        1:18 PM     plane  \n",
       "17      4:50 PM        5:41 PM     plane  \n",
       "18      5:50 PM        6:46 PM     plane  "
      ]
     },
     "execution_count": 87,
     "metadata": {},
     "output_type": "execute_result"
    }
   ],
   "source": [
    "travel_clean.head()"
   ]
  },
  {
   "cell_type": "code",
   "execution_count": null,
   "metadata": {},
   "outputs": [],
   "source": [
    "travel['arrival_hour'] = "
   ]
  },
  {
   "cell_type": "code",
   "execution_count": 90,
   "metadata": {},
   "outputs": [],
   "source": [
    "travel_clean.to_csv('data/travels.csv')"
   ]
  }
 ],
 "metadata": {
  "kernelspec": {
   "display_name": "Python 3",
   "language": "python",
   "name": "python3"
  },
  "language_info": {
   "codemirror_mode": {
    "name": "ipython",
    "version": 3
   },
   "file_extension": ".py",
   "mimetype": "text/x-python",
   "name": "python",
   "nbconvert_exporter": "python",
   "pygments_lexer": "ipython3",
   "version": "3.7.4"
  }
 },
 "nbformat": 4,
 "nbformat_minor": 2
}
